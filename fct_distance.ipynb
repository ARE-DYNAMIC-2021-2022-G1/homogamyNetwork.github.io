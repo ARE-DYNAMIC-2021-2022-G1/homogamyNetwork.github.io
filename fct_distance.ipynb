{
 "cells": [
  {
   "cell_type": "code",
   "execution_count": 209,
   "id": "57b7fb8c",
   "metadata": {},
   "outputs": [],
   "source": [
    "import numpy as np\n",
    "import matplotlib.pyplot as plt\n",
    "import math\n",
    "import random\n",
    "#je créer une premiere version des fonctions distances .\n",
    "#il manque celle sur les types de personnes pcq il faut voir quel profile va avec le quel."
   ]
  },
  {
   "cell_type": "code",
   "execution_count": 210,
   "id": "e378f2bf",
   "metadata": {},
   "outputs": [],
   "source": [
    "def creation(nb_pers):\n",
    "    j =0\n",
    "    res = []\n",
    "    while j < nb_pers:\n",
    "        res.append([])\n",
    "        j += 1\n",
    "   \n",
    "    return res"
   ]
  },
  {
   "cell_type": "code",
   "execution_count": 211,
   "id": "37837453",
   "metadata": {},
   "outputs": [],
   "source": [
    "def age():\n",
    "    return random.randint(18, 60)"
   ]
  },
  {
   "cell_type": "code",
   "execution_count": 212,
   "id": "2af8fc16",
   "metadata": {},
   "outputs": [],
   "source": [
    "def generation_travail(): #probleme on peut avoir des gens de 50 ans classés en étudiant \n",
    "                          #dans la deuxième version-> rajouter des if en fct de l'age\n",
    "    a=random.random()\n",
    "    if age() < 29:\n",
    "        if a<0.44:\n",
    "            return \"travaille\"\n",
    "        elif a<0.66:\n",
    "            return \"etudiant\"\n",
    "        else:\n",
    "            return \"chomage\" #%pris injep.fr\n",
    "        \n",
    "    else:\n",
    "        if a < 0.07:\n",
    "            return \"chomage\"\n",
    "        elif a < 0.95:\n",
    "            return \"travaille\"\n",
    "        else:\n",
    "            return \"etudiant\""
   ]
  },
  {
   "cell_type": "code",
   "execution_count": 213,
   "id": "e6ee9992",
   "metadata": {},
   "outputs": [],
   "source": [
    "def nb_relation():\n",
    "    if age() <= 25: #conditionne le nb de relations passée en fonction de l'age pour se rapprocher de la realité\n",
    "        return random.randint(0, 6)\n",
    "    else:\n",
    "        a = random.random() # permet d'avoir peu de personnes avec peu de relation ou bcp trop\n",
    "        if a < 0.2:\n",
    "            return random.randint(1, 3)\n",
    "        elif a > 0.9:\n",
    "            return random.randint(10, 30)\n",
    "        else :\n",
    "            return random.randint(3, 9)"
   ]
  },
  {
   "cell_type": "code",
   "execution_count": 214,
   "id": "3bad40a9",
   "metadata": {},
   "outputs": [],
   "source": [
    "def moyenne():\n",
    "    a = age()    \n",
    "    calcul = random.randint(3, (a * 12)-180) #choisi un nb de mois jusqu'à age moins 15ans pour se rapprocher du réel\n",
    "    temps_tot = nb_relation() * calcul\n",
    "    \n",
    "    while temps_tot > (a * 12)-180:\n",
    "        calcul = random.randint(3, (a * 12)-180)\n",
    "        temps_tot = temps_tot = nb_relation() * calcul\n",
    "    return calcul\n",
    "        \n",
    "# On peut rajouter des conditions pour que la durée moyenne soit cohérente avec l'age et le nb de relation"
   ]
  },
  {
   "cell_type": "code",
   "execution_count": 215,
   "id": "dec9bdde",
   "metadata": {},
   "outputs": [],
   "source": [
    "def envies():         # il faut revoir les if pour avoir des volontés plus proches de la vraie vie\n",
    "    a = random.random() \n",
    "    if age() < 25:\n",
    "        if a < 0.2:\n",
    "            return \"Q\"\n",
    "        elif a < 0.8:\n",
    "            return \"a voir\"\n",
    "        else :\n",
    "            return \"serieux\"\n",
    "    elif age() < 45:\n",
    "        if a < 0.2:\n",
    "            return \"Q\"\n",
    "        elif a < 0.6:\n",
    "            return \"a voir\"\n",
    "        else :\n",
    "            return \"serieux\"\n",
    "    else:\n",
    "        if a < 0.4:\n",
    "            return \"Q\"\n",
    "        elif a < 0.6:\n",
    "            return \"a voir\"\n",
    "        else :\n",
    "            return \"serieux\""
   ]
  },
  {
   "cell_type": "code",
   "execution_count": 216,
   "id": "1f888770",
   "metadata": {},
   "outputs": [],
   "source": [
    "def caract():#chacun des chiffre représente un caractère \"type\" qu'on peut retrouver dans le MBTI\n",
    "    return random.randint(1, 4)  #les analystes, les aventuriers, les diplomates et les sentinelles"
   ]
  },
  {
   "cell_type": "code",
   "execution_count": 217,
   "id": "5ab047fd",
   "metadata": {},
   "outputs": [],
   "source": [
    "#il faudra une fonction qui remplace les valeurs de creation par les criteres définis par les fonctions\n",
    "def vraie_liste(nb_pers):\n",
    "    a = 0\n",
    "    l = creation(nb_pers)\n",
    "    res = []\n",
    "    for a in range(len(l)):\n",
    "        l[a].append(age())\n",
    "        l[a].append(generation_travail())\n",
    "        l[a].append(nb_relation())\n",
    "        l[a].append(moyenne())\n",
    "        l[a].append(envies())\n",
    "        l[a].append(caract())\n",
    "        \n",
    "    return l"
   ]
  },
  {
   "cell_type": "code",
   "execution_count": 218,
   "id": "26717782",
   "metadata": {},
   "outputs": [],
   "source": [
    "def meeting(): \n",
    "    f = vraie_liste(10)\n",
    "    a = f[random.randint(0, len(f)-1)]    \n",
    "    b = f[random.randint(0, len(f)-1)]\n",
    "    while b == a:                     #b peut avoir les mêmes valeurs que a mais il ne faut pas que ce soit la même personne\n",
    "        b = f[random.randint(0, len(f)-1)]\n",
    "    return a, b\n",
    "    "
   ]
  },
  {
   "cell_type": "code",
   "execution_count": 219,
   "id": "534d612f",
   "metadata": {},
   "outputs": [],
   "source": [
    "def dist_age(): \n",
    "    m = meeting()\n",
    "    f = m[0]\n",
    "    h = m[1]\n",
    "    temp = ((f[0])-(h[0]))**2\n",
    "    res = math.sqrt(temp)\n",
    "    return res#*12               #voir s'il faut faire en mois ou année\n",
    "    "
   ]
  },
  {
   "cell_type": "code",
   "execution_count": 220,
   "id": "d8bfb8f8",
   "metadata": {},
   "outputs": [
    {
     "data": {
      "text/plain": [
       "3.0"
      ]
     },
     "execution_count": 220,
     "metadata": {},
     "output_type": "execute_result"
    }
   ],
   "source": [
    "dist_age()"
   ]
  },
  {
   "cell_type": "code",
   "execution_count": 221,
   "id": "789bc9fb",
   "metadata": {},
   "outputs": [],
   "source": [
    "def dist_nb_relation(): \n",
    "    m = meeting()\n",
    "    f = m[0]\n",
    "    h = m[1]\n",
    "    print(m)\n",
    "    temp = ((f[2])-(h[2]))**2\n",
    "    res = math.sqrt(temp)\n",
    "    return res"
   ]
  },
  {
   "cell_type": "code",
   "execution_count": 222,
   "id": "edfab14a",
   "metadata": {},
   "outputs": [
    {
     "name": "stdout",
     "output_type": "stream",
     "text": [
      "([46, 'travaille', 4, 32, 'a voir', 1], [25, 'travaille', 5, 101, 'a voir', 4])\n"
     ]
    },
    {
     "data": {
      "text/plain": [
       "1.0"
      ]
     },
     "execution_count": 222,
     "metadata": {},
     "output_type": "execute_result"
    }
   ],
   "source": [
    "dist_nb_relation()"
   ]
  },
  {
   "cell_type": "code",
   "execution_count": 223,
   "id": "6faab442",
   "metadata": {},
   "outputs": [],
   "source": [
    "def dist_moyenne(): \n",
    "    m = meeting()\n",
    "    f = m[0]\n",
    "    h = m[1]\n",
    "    print(m)\n",
    "    temp = ((f[3])-(h[3]))**2\n",
    "    res = math.sqrt(temp)\n",
    "    return res"
   ]
  },
  {
   "cell_type": "code",
   "execution_count": 224,
   "id": "c713f4e8",
   "metadata": {},
   "outputs": [
    {
     "name": "stdout",
     "output_type": "stream",
     "text": [
      "([46, 'travaille', 6, 93, 'Q', 1], [52, 'travaille', 5, 96, 'serieux', 4])\n"
     ]
    },
    {
     "data": {
      "text/plain": [
       "3.0"
      ]
     },
     "execution_count": 224,
     "metadata": {},
     "output_type": "execute_result"
    }
   ],
   "source": [
    "dist_moyenne()"
   ]
  },
  {
   "cell_type": "code",
   "execution_count": 236,
   "id": "7275090a",
   "metadata": {},
   "outputs": [],
   "source": [
    "def dist_envie():     #il faut voir quelle ponderation mettre selon la distance des fonctions definies par des chiffres\n",
    "    m = meeting()\n",
    "    f = m[0]\n",
    "    h = m[1]\n",
    "    if f[4] == h[4]:\n",
    "        res = 0\n",
    "    elif f[4] == \"Q\":\n",
    "        if h[4] == \"serieux\":\n",
    "            res = 50\n",
    "        else:\n",
    "            res = 20\n",
    "    elif f[4] == \"serieux\":\n",
    "        if h[4] == \"Q\":\n",
    "            res = 50\n",
    "        else:\n",
    "            res = 20\n",
    "    else:\n",
    "        res = 20\n",
    "    return res\n",
    "        "
   ]
  },
  {
   "cell_type": "code",
   "execution_count": 235,
   "id": "8304ca48",
   "metadata": {},
   "outputs": [
    {
     "data": {
      "text/plain": [
       "0"
      ]
     },
     "execution_count": 235,
     "metadata": {},
     "output_type": "execute_result"
    }
   ],
   "source": [
    "dist_envie()"
   ]
  },
  {
   "cell_type": "code",
   "execution_count": null,
   "id": "07e2c33c",
   "metadata": {},
   "outputs": [],
   "source": []
  }
 ],
 "metadata": {
  "kernelspec": {
   "display_name": "Python 3 (ipykernel)",
   "language": "python",
   "name": "python3"
  },
  "language_info": {
   "codemirror_mode": {
    "name": "ipython",
    "version": 3
   },
   "file_extension": ".py",
   "mimetype": "text/x-python",
   "name": "python",
   "nbconvert_exporter": "python",
   "pygments_lexer": "ipython3",
   "version": "3.10.4"
  }
 },
 "nbformat": 4,
 "nbformat_minor": 5
}
