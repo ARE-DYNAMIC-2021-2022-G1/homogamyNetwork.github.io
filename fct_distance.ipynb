{
 "cells": [
  {
   "cell_type": "code",
   "execution_count": 47,
   "id": "57b7fb8c",
   "metadata": {},
   "outputs": [],
   "source": [
    "import numpy as np\n",
    "import matplotlib.pyplot as plt\n",
    "import math\n",
    "import random\n",
    "\n",
    "#je créer une premiere version des fonctions distances .\n",
    "#il manque celle sur les types de personnes pcq il faut voir quel profile va avec le quel."
   ]
  },
  {
   "cell_type": "code",
   "execution_count": 48,
   "id": "e378f2bf",
   "metadata": {},
   "outputs": [],
   "source": [
    "def creation(nb_pers):\n",
    "    j =0\n",
    "    res = []\n",
    "    while j < nb_pers:\n",
    "        res.append([])\n",
    "        j += 1\n",
    "   \n",
    "    return res"
   ]
  },
  {
   "cell_type": "code",
   "execution_count": 49,
   "id": "37837453",
   "metadata": {},
   "outputs": [],
   "source": [
    "def age():\n",
    "    return random.randint(18, 60)"
   ]
  },
  {
   "cell_type": "code",
   "execution_count": 50,
   "id": "2af8fc16",
   "metadata": {},
   "outputs": [],
   "source": [
    "def generation_travail(): #probleme on peut avoir des gens de 50 ans classés en étudiant \n",
    "                          #dans la deuxième version-> rajouter des if en fct de l'age\n",
    "    a=random.random()\n",
    "    if age() < 29:\n",
    "        if a<0.44:\n",
    "            return \"travaille\"\n",
    "        elif a<0.66:\n",
    "            return \"etudiant\"\n",
    "        else:\n",
    "            return \"chomage\" #%pris injep.fr\n",
    "        \n",
    "    else:\n",
    "        if a < 0.07:\n",
    "            return \"chomage\"\n",
    "        elif a < 0.95:\n",
    "            return \"travaille\"\n",
    "        else:\n",
    "            return \"etudiant\""
   ]
  },
  {
   "cell_type": "code",
   "execution_count": 51,
   "id": "e6ee9992",
   "metadata": {},
   "outputs": [],
   "source": [
    "def nb_relation():\n",
    "    if age() <= 25: #conditionne le nb de relations passée en fonction de l'age pour se rapprocher de la realité\n",
    "        return random.randint(0, 6)\n",
    "    else:\n",
    "        a = random.random() # permet d'avoir peu de personnes avec peu de relation ou bcp trop\n",
    "        if a < 0.2:\n",
    "            return random.randint(1, 3)\n",
    "        elif a > 0.9:\n",
    "            return random.randint(10, 30)\n",
    "        else :\n",
    "            return random.randint(3, 9)"
   ]
  },
  {
   "cell_type": "code",
   "execution_count": 52,
   "id": "3bad40a9",
   "metadata": {},
   "outputs": [],
   "source": [
    "def moyenne():\n",
    "    a = age()    \n",
    "    calcul = random.randint(3, (a * 12)-180) #choisi un nb de mois jusqu'à age moins 15ans pour se rapprocher du réel\n",
    "    temps_tot = nb_relation() * calcul\n",
    "    if nb_relation() == 0:\n",
    "        return 0\n",
    "    else :\n",
    "        while temps_tot > (a * 12)-180:\n",
    "            calcul = random.randint(3, (a * 12)-180)\n",
    "            temps_tot = temps_tot = nb_relation() * calcul\n",
    "        return calcul\n",
    "        \n",
    "# On peut rajouter des conditions pour que la durée moyenne soit cohérente avec l'age et le nb de relation"
   ]
  },
  {
   "cell_type": "code",
   "execution_count": 53,
   "id": "dec9bdde",
   "metadata": {},
   "outputs": [],
   "source": [
    "def envies():         # il faut revoir les if pour avoir des volontés plus proches de la vraie vie\n",
    "    a = random.random() \n",
    "    if age() < 25:\n",
    "        if a < 0.2:\n",
    "            return \"Q\"\n",
    "        elif a < 0.8:\n",
    "            return \"a voir\"\n",
    "        else :\n",
    "            return \"serieux\"\n",
    "    elif age() < 45:\n",
    "        if a < 0.2:\n",
    "            return \"Q\"\n",
    "        elif a < 0.6:\n",
    "            return \"a voir\"\n",
    "        else :\n",
    "            return \"serieux\"\n",
    "    else:\n",
    "        if a < 0.4:\n",
    "            return \"Q\"\n",
    "        elif a < 0.6:\n",
    "            return \"a voir\"\n",
    "        else :\n",
    "            return \"serieux\""
   ]
  },
  {
   "cell_type": "code",
   "execution_count": 54,
   "id": "1f888770",
   "metadata": {},
   "outputs": [],
   "source": [
    "def caract():#chacun des chiffre représente un caractère \"type\" qu'on peut retrouver dans le MBTI\n",
    "    return random.randint(1, 4)  #les analystes, les aventuriers, les diplomates et les sentinelles"
   ]
  },
  {
   "cell_type": "code",
   "execution_count": 55,
   "id": "5ab047fd",
   "metadata": {},
   "outputs": [],
   "source": [
    "#il faudra une fonction qui remplace les valeurs de creation par les criteres définis par les fonctions\n",
    "def vraie_liste(nb_pers):\n",
    "    a = 0\n",
    "    l = creation(nb_pers)\n",
    "    res = []\n",
    "    for a in range(len(l)):\n",
    "        l[a].append(age())\n",
    "        l[a].append(generation_travail())\n",
    "        l[a].append(nb_relation())\n",
    "        l[a].append(moyenne())\n",
    "        l[a].append(envies())\n",
    "        l[a].append(caract())\n",
    "        \n",
    "    return l"
   ]
  },
  {
   "cell_type": "code",
   "execution_count": 56,
   "id": "26717782",
   "metadata": {},
   "outputs": [],
   "source": [
    "def meeting(): \n",
    "    f = vraie_liste(10)\n",
    "    a = f[random.randint(0, len(f)-1)]    \n",
    "    b = f[random.randint(0, len(f)-1)]\n",
    "    while b == a:                     #b peut avoir les mêmes valeurs que a mais il ne faut pas que ce soit la même personne\n",
    "        b = f[random.randint(0, len(f)-1)]\n",
    "    return a, b\n",
    "    "
   ]
  },
  {
   "cell_type": "code",
   "execution_count": 57,
   "id": "534d612f",
   "metadata": {},
   "outputs": [],
   "source": [
    "def dist_age(f,h): \n",
    "    \n",
    "    temp = ((f[0])-(h[0]))**2\n",
    "    res = math.sqrt(temp)\n",
    "    return res#*12               #voir s'il faut faire en mois ou année\n",
    "    "
   ]
  },
  {
   "cell_type": "code",
   "execution_count": 58,
   "id": "d8bfb8f8",
   "metadata": {},
   "outputs": [
    {
     "data": {
      "text/plain": [
       "1.0"
      ]
     },
     "execution_count": 58,
     "metadata": {},
     "output_type": "execute_result"
    }
   ],
   "source": [
    "dist_age([24, 'travaille', 9, 83, 'a voir', 4], [23, 'travaille', 7, 39, 'serieux', 4])"
   ]
  },
  {
   "cell_type": "code",
   "execution_count": 59,
   "id": "789bc9fb",
   "metadata": {},
   "outputs": [],
   "source": [
    "def dist_nb_relation(f,h): \n",
    "    \n",
    "    temp = ((f[2])-(h[2]))**2\n",
    "    res = math.sqrt(temp)\n",
    "    return res"
   ]
  },
  {
   "cell_type": "code",
   "execution_count": 60,
   "id": "edfab14a",
   "metadata": {},
   "outputs": [
    {
     "data": {
      "text/plain": [
       "2.0"
      ]
     },
     "execution_count": 60,
     "metadata": {},
     "output_type": "execute_result"
    }
   ],
   "source": [
    "dist_nb_relation([24, 'travaille', 9, 83, 'a voir', 4], [23, 'travaille', 7, 39, 'serieux', 4])"
   ]
  },
  {
   "cell_type": "code",
   "execution_count": 61,
   "id": "6faab442",
   "metadata": {},
   "outputs": [],
   "source": [
    "def dist_moyenne(f,h): \n",
    "    temp = ((f[3])-(h[3]))**2\n",
    "    res = math.sqrt(temp)\n",
    "    return res"
   ]
  },
  {
   "cell_type": "code",
   "execution_count": 62,
   "id": "c713f4e8",
   "metadata": {},
   "outputs": [
    {
     "data": {
      "text/plain": [
       "50.0"
      ]
     },
     "execution_count": 62,
     "metadata": {},
     "output_type": "execute_result"
    }
   ],
   "source": [
    "dist_moyenne([45, 'travaille', 13, 7, 'Q', 3], [36, 'travaille', 7, 57, 'serieux', 1])"
   ]
  },
  {
   "cell_type": "code",
   "execution_count": 63,
   "id": "7275090a",
   "metadata": {},
   "outputs": [],
   "source": [
    "def dist_envie(f,h):     #il faut voir quelle ponderation mettre selon la distance des fonctions definies par des chiffres\n",
    "    \n",
    "    if f[4] == h[4]:\n",
    "        res = 0\n",
    "    elif f[4] == \"Q\":\n",
    "        if h[4] == \"serieux\":\n",
    "            res = 50\n",
    "        else:\n",
    "            res = 20\n",
    "    elif f[4] == \"serieux\":\n",
    "        if h[4] == \"Q\":\n",
    "            res = 50\n",
    "        else:\n",
    "            res = 20\n",
    "    else:\n",
    "        res = 20\n",
    "    return res\n",
    "        "
   ]
  },
  {
   "cell_type": "code",
   "execution_count": 64,
   "id": "8304ca48",
   "metadata": {},
   "outputs": [
    {
     "data": {
      "text/plain": [
       "50"
      ]
     },
     "execution_count": 64,
     "metadata": {},
     "output_type": "execute_result"
    }
   ],
   "source": [
    "dist_envie([45, 'travaille', 13, 7, 'Q', 3], [36, 'travaille', 7, 57, 'serieux', 1])"
   ]
  },
  {
   "cell_type": "code",
   "execution_count": 65,
   "id": "749ab29f",
   "metadata": {},
   "outputs": [],
   "source": [
    "def dist_caract(f,h): #de 1 à 4 indique le nb de points communs dans le mbti\n",
    "    if f[5] == h[5]:\n",
    "        return 0\n",
    "    elif f[5] ==  1:\n",
    "        if h[5] == 4:\n",
    "            return 100\n",
    "        elif h[5] == 3:\n",
    "            return 50\n",
    "        elif h[5] == 2:\n",
    "            return 25\n",
    "    elif f[5] ==  2:\n",
    "        if h[5] == 1:\n",
    "            return 25\n",
    "        elif h[5] == 3:\n",
    "            return 25\n",
    "        elif h[5] == 4:\n",
    "            return 50\n",
    "    elif f[5] ==  3:\n",
    "        if h[5] == 1:\n",
    "            return 50\n",
    "        elif h[5] == 2:\n",
    "            return 25\n",
    "        elif h[5] == 4:\n",
    "            return 25\n",
    "    else:\n",
    "        if h[5] == 1:\n",
    "            return 100\n",
    "        elif h[5] == 3:\n",
    "            return 25\n",
    "        elif h[5] == 2:\n",
    "            return 50"
   ]
  },
  {
   "cell_type": "code",
   "execution_count": 66,
   "id": "8aaecced",
   "metadata": {},
   "outputs": [
    {
     "data": {
      "text/plain": [
       "50"
      ]
     },
     "execution_count": 66,
     "metadata": {},
     "output_type": "execute_result"
    }
   ],
   "source": [
    "dist_caract([36, 'travaille', 13, 7, 'Q', 3], [36, 'travaille', 13, 7, 'serieux', 1])"
   ]
  },
  {
   "cell_type": "code",
   "execution_count": 67,
   "id": "6ff5a254",
   "metadata": {},
   "outputs": [],
   "source": [
    "def duree1(f,h): #retourne entre 0 et 600 et 600/12 = 50 donc possibilité de dire a vie\n",
    "    l = []\n",
    "    dist_tot = dist_envie(f,h) + dist_moyenne(f,h) + dist_nb_relation(f,h) + dist_age(f,h) + dist_caract(f,h)\n",
    "    #dist_max = 50 + 30 + 350 + 42 + 100 =600\n",
    "    l.append(dist_tot)\n",
    "    #res = random.randint(1,30)*dist_tot\n",
    "    res = 600 - dist_tot\n",
    "    l.append(res)\n",
    "    return l"
   ]
  },
  {
   "cell_type": "code",
   "execution_count": 68,
   "id": "e39dda5e",
   "metadata": {},
   "outputs": [
    {
     "data": {
      "text/plain": [
       "[242.0, 358.0]"
      ]
     },
     "execution_count": 68,
     "metadata": {},
     "output_type": "execute_result"
    }
   ],
   "source": [
    "duree1([18, 'etudiant', 1, 5, 'Q', 4], [60, 'chomage', 20, 36, 'serieux', 1])"
   ]
  },
  {
   "cell_type": "code",
   "execution_count": 69,
   "id": "a41fecbd",
   "metadata": {},
   "outputs": [],
   "source": [
    "def meeting_duree(f,h): #renvoie la durée supposée et le nb de caracteres en commun\n",
    "    res=0\n",
    "    m = meeting()\n",
    "    f = m[0]\n",
    "    h = m[1]\n",
    "    #print(m)\n",
    "    l=[]\n",
    "    for i in range(len(f)):\n",
    "        if f[i]==h[i]:\n",
    "            res=res+1\n",
    "    l.append(res/3*random.randint(1,30))\n",
    "    l.append(res)\n",
    "    return l"
   ]
  },
  {
   "cell_type": "code",
   "execution_count": null,
   "id": "8c6ea69d",
   "metadata": {},
   "outputs": [],
   "source": []
  },
  {
   "cell_type": "code",
   "execution_count": 70,
   "id": "5c30bea0",
   "metadata": {},
   "outputs": [],
   "source": [
    "def coordonees1(nb_tirage, taille): #on rentre le nombre de tirages qu'on souhaite faire et la taille de la liste de départ\n",
    "    f = creation(taille)\n",
    "    duo = meeting()\n",
    "    l = duree1(duo[0], duo[1])    \n",
    "    i=0\n",
    "    plt.title(\"durée du couple en fonction de l'écart entre leur personnalité\")\n",
    "    plt.axis([0,600, 0, 600])# définie l'échelle du graphe\n",
    "    while i < nb_tirage:\n",
    "        duo = meeting()\n",
    "        l = duree1(duo[0], duo[1]) \n",
    "        b = meeting_duree(duo[0], duo[1]) \n",
    "        x=l[1]\n",
    "        y=l[0]\n",
    "        i += 1\n",
    "        #print(l)\n",
    "        #print(b)\n",
    "         \n",
    "        plt.scatter(x,y)\n",
    "        #plt.plot(x,y, color = 'r')\n",
    "    plt.show "
   ]
  },
  {
   "cell_type": "code",
   "execution_count": 71,
   "id": "079c63a6",
   "metadata": {},
   "outputs": [
    {
     "data": {
      "image/png": "[encoded data removed]",
      "text/plain": [
       "<Figure size 432x288 with 1 Axes>"
      ]
     },
     "metadata": {
      "needs_background": "light"
     },
     "output_type": "display_data"
    }
   ],
   "source": [
    "coordonees1(10, 100)"
   ]
  },
  {
   "cell_type": "code",
   "execution_count": 113,
   "id": "307f5c7b",
   "metadata": {},
   "outputs": [],
   "source": [
    "def duree(f,h):\n",
    "    l = []\n",
    "    dist_tot = dist_envie(f,h) + dist_moyenne(f,h) + dist_nb_relation(f,h) + dist_age(f,h) + dist_caract(f,h)\n",
    "    l.append(dist_tot)\n",
    "    temp = 600 - dist_tot\n",
    "    res = random.randint(0, temp)\n",
    "    \n",
    "    l.append(res)\n",
    "    return l"
   ]
  },
  {
   "cell_type": "code",
   "execution_count": 114,
   "id": "d7e427fb",
   "metadata": {},
   "outputs": [],
   "source": [
    "def coordonees(nb_tirage, taille): #on rentre le nombre de tirages qu'on souhaite faire et la taille de la liste de départ\n",
    "    f = creation(taille)\n",
    "    #duo = meeting()\n",
    "    #l = duree(duo[0], duo[1])    \n",
    "    i=0\n",
    "    plt.title(\"durée du couple en fonction de l'écart entre leur personnalité\")\n",
    "    plt.axis([0,600, 0, 600])\n",
    "    # définie l'échelle du graphe\n",
    "    while i < nb_tirage:\n",
    "        duo = meeting()\n",
    "        l = duree(duo[0], duo[1]) \n",
    "        x=l[1]\n",
    "        y=l[0]\n",
    "        i += 1\n",
    "         \n",
    "        plt.scatter(x,y)\n",
    "        #plt.plot(x,y, color = 'r')\n",
    "    plt.show "
   ]
  },
  {
   "cell_type": "code",
   "execution_count": 119,
   "id": "54151a86",
   "metadata": {},
   "outputs": [
    {
     "data": {
      "image/png": "[encoded data removed]",
      "text/plain": [
       "<Figure size 432x288 with 1 Axes>"
      ]
     },
     "metadata": {
      "needs_background": "light"
     },
     "output_type": "display_data"
    }
   ],
   "source": [
    "coordonees(100, 100)"
   ]
  },
  {
   "cell_type": "code",
   "execution_count": 75,
   "id": "239bc0c0",
   "metadata": {},
   "outputs": [],
   "source": [
    "#res = dist_tot/3*random.randint(1,30)\n",
    "#plt.axis([0,600, 0, 600])"
   ]
  }
 ],
 "metadata": {
  "kernelspec": {
   "display_name": "Python 3 (ipykernel)",
   "language": "python",
   "name": "python3"
  },
  "language_info": {
   "codemirror_mode": {
    "name": "ipython",
    "version": 3
   },
   "file_extension": ".py",
   "mimetype": "text/x-python",
   "name": "python",
   "nbconvert_exporter": "python",
   "pygments_lexer": "ipython3",
   "version": "3.10.4"
  }
 },
 "nbformat": 4,
 "nbformat_minor": 5
}
