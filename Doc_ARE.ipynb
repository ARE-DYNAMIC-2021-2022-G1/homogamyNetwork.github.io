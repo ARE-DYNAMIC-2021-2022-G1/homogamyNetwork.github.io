{
 "cells": [
  {
   "cell_type": "code",
   "execution_count": 398,
   "id": "08b3c8dc",
   "metadata": {
    "scrolled": true
   },
   "outputs": [],
   "source": [
    "import numpy as np\n",
    "import matplotlib.pyplot as plt\n",
    "import random"
   ]
  },
  {
   "cell_type": "code",
   "execution_count": 399,
   "id": "72971376",
   "metadata": {},
   "outputs": [],
   "source": [
    "#fonction 1 : créer la liste d'individus\n",
    "#fonction 2 : fonctions déterminant les carcteres et qui remplie la liste\n",
    "#fonction 3 : meeting \n",
    "#fonction 4 : fonction qui prend en compte l'écart entre chaque individus\n",
    "#fonction 5 : fonction determine le temps estimer du couple\n",
    "#fonction 6 : tarcer un tableau avec nuages de points et lignes\n",
    "#fonction 7 : bonus-> mettre à jour la liste de départ en même temps que les meeting"
   ]
  },
  {
   "cell_type": "code",
   "execution_count": 400,
   "id": "da23b825",
   "metadata": {},
   "outputs": [],
   "source": [
    "def panel_personne(nb_criteres, nb_pers):\n",
    "    a=0\n",
    "    b=0\n",
    "    i = 0\n",
    "    l=[]\n",
    "    res = []\n",
    "    while i < nb_pers:\n",
    "        while a<nb_criteres:\n",
    "            a+=1\n",
    "            b= random.random()\n",
    "            if b< 0.3:\n",
    "                l.append(random.randint(18,25))\n",
    "            elif b<0.6:\n",
    "                l.append(random.randint(25, 35))\n",
    "            else:\n",
    "                l.append(random.randint(35, 50))\n",
    "        res.append(l)\n",
    "        i += 1\n",
    "                \n",
    "    \n",
    "    return res"
   ]
  },
  {
   "cell_type": "code",
   "execution_count": null,
   "id": "e90e7333",
   "metadata": {},
   "outputs": [],
   "source": []
  },
  {
   "cell_type": "code",
   "execution_count": 517,
   "id": "81dc192e",
   "metadata": {},
   "outputs": [],
   "source": [
    "def creation(nb_pers):\n",
    "    j =0\n",
    "    res = []\n",
    "    while j < nb_pers:\n",
    "        res.append([])\n",
    "        j += 1\n",
    "   \n",
    "    return res"
   ]
  },
  {
   "cell_type": "code",
   "execution_count": 518,
   "id": "04655167",
   "metadata": {},
   "outputs": [
    {
     "data": {
      "text/plain": [
       "[[], [], [], [], [], [], [], [], [], []]"
      ]
     },
     "execution_count": 518,
     "metadata": {},
     "output_type": "execute_result"
    }
   ],
   "source": [
    "creation(10)\n"
   ]
  },
  {
   "cell_type": "code",
   "execution_count": 523,
   "id": "fc5c1f66",
   "metadata": {},
   "outputs": [],
   "source": [
    "#il faudra une fonction qui remplace les valeurs de creation par les criteres définis par les fonctions\n",
    "def vraie_liste(nb_pers):\n",
    "    a = 0\n",
    "    l = creation(nb_pers)\n",
    "    res = []\n",
    "    for a in range(len(l)):\n",
    "        z = age()\n",
    "        e = generation_travail()\n",
    "        r = nb_relation()\n",
    "        t = moyenne_relation()\n",
    "        y = envies()\n",
    "        u = caract()\n",
    "        #res.append(age())\n",
    "        #res.append(generation_travail())\n",
    "        #res.append(nb_relation())\n",
    "        #res.append(moyenne_relation())\n",
    "        #res.append(envies())\n",
    "        #res.append(caract())\n",
    "    return res"
   ]
  },
  {
   "cell_type": "code",
   "execution_count": 524,
   "id": "51aef34e",
   "metadata": {},
   "outputs": [
    {
     "data": {
      "text/plain": [
       "[19, 'etudiant', 6, 223, 'a voir', 4, 29, 'etudiant', 7, 208, 'serieux', 1]"
      ]
     },
     "execution_count": 524,
     "metadata": {},
     "output_type": "execute_result"
    }
   ],
   "source": [
    "vraie_liste(2)"
   ]
  },
  {
   "cell_type": "code",
   "execution_count": 403,
   "id": "ed3c8b86",
   "metadata": {},
   "outputs": [],
   "source": [
    "def meeting(f): \n",
    "    a = f[random.randint(0, len(f)-1)]    \n",
    "    b = f[random.randint(0, len(f)-1)]\n",
    "    while b == a:                     #b peut avoir les mêmes valeurs que a mais il ne faut pas que ce soit la même personne\n",
    "        b = f[random.randint(0, len(f)-1)]\n",
    "    return a, b\n",
    "    "
   ]
  },
  {
   "cell_type": "code",
   "execution_count": 404,
   "id": "6b13eafb",
   "metadata": {},
   "outputs": [
    {
     "data": {
      "text/plain": [
       "([17, 'ligfi', 'viuez'], [18, 'hetero', 'etudiant'])"
      ]
     },
     "execution_count": 404,
     "metadata": {},
     "output_type": "execute_result"
    }
   ],
   "source": [
    "meeting([[18,\"hetero\",\"etudiant\"],[17, \"ligfi\", \"viuez\"], [98, \"vjhevbl\", \"lgiefi\"], [756, \"lizzirv\", \"lerfl\"]])\n"
   ]
  },
  {
   "cell_type": "code",
   "execution_count": 405,
   "id": "6776c23b",
   "metadata": {},
   "outputs": [],
   "source": [
    "def meeting_duree(f,h): #renvoie la durée supposée et le nb de caracteres en commun\n",
    "    res=0\n",
    "    l=[]\n",
    "    for i in range(len(f)):\n",
    "        if f[i]==h[i]:\n",
    "            res=res+1\n",
    "    l.append(res/3*random.randint(0,30))\n",
    "    l.append(res)\n",
    "    return l"
   ]
  },
  {
   "cell_type": "code",
   "execution_count": 406,
   "id": "f326a671",
   "metadata": {},
   "outputs": [
    {
     "data": {
      "text/plain": [
       "[2.0, 3]"
      ]
     },
     "execution_count": 406,
     "metadata": {},
     "output_type": "execute_result"
    }
   ],
   "source": [
    " meeting_duree([18, 'hetero', 'etudiant'], [18, 'hetero', 'etudiant'])"
   ]
  },
  {
   "cell_type": "code",
   "execution_count": 508,
   "id": "bc012a1a",
   "metadata": {},
   "outputs": [],
   "source": [
    "def generation_travail():\n",
    "    #l=[]\n",
    "    a=random.random()\n",
    "    #l.append(random.randint(18,50))\n",
    "    if a<0.33:\n",
    "        return \"etudiant\"#l.append(\"etudiant\")\n",
    "    elif a<0.66:\n",
    "        return \"travaille\"#l.append(\"travaille\")\n",
    "    else:\n",
    "        return \"chomage\"#l.append(\"chomage\")"
   ]
  },
  {
   "cell_type": "code",
   "execution_count": 509,
   "id": "b02f29f5",
   "metadata": {},
   "outputs": [
    {
     "data": {
      "text/plain": [
       "'chomage'"
      ]
     },
     "execution_count": 509,
     "metadata": {},
     "output_type": "execute_result"
    }
   ],
   "source": [
    "generation_travail()"
   ]
  },
  {
   "cell_type": "code",
   "execution_count": 408,
   "id": "0dc88de0",
   "metadata": {},
   "outputs": [],
   "source": [
    "def age():\n",
    "    return random.randint(18, 60)"
   ]
  },
  {
   "cell_type": "code",
   "execution_count": 409,
   "id": "e9a1fa9a",
   "metadata": {},
   "outputs": [
    {
     "data": {
      "text/plain": [
       "29"
      ]
     },
     "execution_count": 409,
     "metadata": {},
     "output_type": "execute_result"
    }
   ],
   "source": [
    "age()"
   ]
  },
  {
   "cell_type": "code",
   "execution_count": 410,
   "id": "ad8349cf",
   "metadata": {},
   "outputs": [],
   "source": [
    "def nb_relation():\n",
    "    if age() <= 25: #conditionne le nb de relations passée en fonction de l'age pour se rapprocher de la realité\n",
    "        return random.randint(0, 8)\n",
    "    else:\n",
    "        a = random.random() # permet d'avoir peu de personnes avec peu de relation ou bcp trop\n",
    "        if a < 0.2:\n",
    "            return random.randint(0, 2)\n",
    "        elif a > 0.9:\n",
    "            return random.randint(10, 30)\n",
    "        else :\n",
    "            return random.randint(3, 9)\n",
    "    \n"
   ]
  },
  {
   "cell_type": "code",
   "execution_count": 411,
   "id": "9d41e1e4",
   "metadata": {},
   "outputs": [
    {
     "data": {
      "text/plain": [
       "8"
      ]
     },
     "execution_count": 411,
     "metadata": {},
     "output_type": "execute_result"
    }
   ],
   "source": [
    "nb_relation()"
   ]
  },
  {
   "cell_type": "code",
   "execution_count": 412,
   "id": "636649d1",
   "metadata": {},
   "outputs": [],
   "source": [
    "def moyenne_relation():\n",
    "    return random.randint(3, (age()*12)-180) #choisi un nb de mois jusqu'à age moins 15ans pour se rapprocher du réel\n",
    "# il faut rajouter des conditions pour que la durée moyenne soit cohérente avec l'age et le nb de relation"
   ]
  },
  {
   "cell_type": "code",
   "execution_count": 413,
   "id": "2b96ca7b",
   "metadata": {},
   "outputs": [
    {
     "data": {
      "text/plain": [
       "229"
      ]
     },
     "execution_count": 413,
     "metadata": {},
     "output_type": "execute_result"
    }
   ],
   "source": [
    "moyenne_relation()"
   ]
  },
  {
   "cell_type": "code",
   "execution_count": 466,
   "id": "6050f447",
   "metadata": {},
   "outputs": [],
   "source": [
    "def envies(): # il faut revoir les if pour avoir des volontés plus proches de la vraie vie\n",
    "    a = random.random() \n",
    "    if age() < 25:\n",
    "        if a < 0.4:\n",
    "            return \"Q\"\n",
    "        elif a < 0.9:\n",
    "            return \"a voir\"\n",
    "        else :\n",
    "            return \"serieux\"\n",
    "    elif age() < 45:\n",
    "        if a < 0.2:\n",
    "            return \"Q\"\n",
    "        elif a < 0.7:\n",
    "            return \"a voir\"\n",
    "        else :\n",
    "            return \"serieux\"\n",
    "    else:\n",
    "        if a < 0.4:\n",
    "            return \"Q\"\n",
    "        elif a < 0.6:\n",
    "            return \"a voir\"\n",
    "        else :\n",
    "            return \"serieux\"\n",
    "            "
   ]
  },
  {
   "cell_type": "code",
   "execution_count": 465,
   "id": "b8e625d2",
   "metadata": {},
   "outputs": [
    {
     "data": {
      "text/plain": [
       "'Q'"
      ]
     },
     "execution_count": 465,
     "metadata": {},
     "output_type": "execute_result"
    }
   ],
   "source": [
    "envies()"
   ]
  },
  {
   "cell_type": "code",
   "execution_count": 467,
   "id": "4709651d",
   "metadata": {},
   "outputs": [],
   "source": [
    "def caract():\n",
    "    return random.randint(1, 4)"
   ]
  },
  {
   "cell_type": "code",
   "execution_count": 415,
   "id": "81888f05",
   "metadata": {},
   "outputs": [
    {
     "data": {
      "text/plain": [
       "[20.0, 3]"
      ]
     },
     "execution_count": 415,
     "metadata": {},
     "output_type": "execute_result"
    }
   ],
   "source": [
    "meeting_duree([18,\"hetero\",\"etudiant\"],[18,\"hetero\",\"etudiant\"])"
   ]
  },
  {
   "cell_type": "code",
   "execution_count": 446,
   "id": "c6f10b27",
   "metadata": {},
   "outputs": [],
   "source": [
    " #on veut tracer un graphe du temps estimer de la relation en fonction des points communs\n",
    "def coordonees(n): #on rentre juste le nombre de tirages qu'on souhaite faire\n",
    "    f = creation(5, 10)\n",
    "    duo = meeting(f)\n",
    "    l = meeting_duree(duo[0], duo[1])    \n",
    "    i=0\n",
    "    plt.title(\"durée du couple en fonction du nombre de points communs\")\n",
    "    plt.axis([0, len(f), 0, 50])# définie l'échelle du graphe\n",
    "    while i < n:\n",
    "        duo = meeting(f)\n",
    "        l = meeting_duree(duo[0], duo[1]) \n",
    "        x=l[1]\n",
    "        y=l[0]\n",
    "        i += 1\n",
    "        plt.scatter(x,y)\n",
    "        #print(duo)\n",
    "        #print(l)\n",
    "    plt.show \n",
    "\n",
    "\n"
   ]
  },
  {
   "cell_type": "code",
   "execution_count": 448,
   "id": "9d7b6f0b",
   "metadata": {},
   "outputs": [
    {
     "data": {
      "image/png": "[encoded data removed]",
      "text/plain": [
       "<Figure size 432x288 with 1 Axes>"
      ]
     },
     "metadata": {
      "needs_background": "light"
     },
     "output_type": "display_data"
    }
   ],
   "source": [
    "coordonees(10)"
   ]
  },
  {
   "cell_type": "code",
   "execution_count": null,
   "id": "a6312483",
   "metadata": {},
   "outputs": [],
   "source": []
  },
  {
   "cell_type": "code",
   "execution_count": null,
   "id": "3bd4522e",
   "metadata": {},
   "outputs": [],
   "source": []
  },
  {
   "cell_type": "code",
   "execution_count": null,
   "id": "915bc6b6",
   "metadata": {},
   "outputs": [],
   "source": []
  },
  {
   "cell_type": "code",
   "execution_count": null,
   "id": "de9a3b7d",
   "metadata": {},
   "outputs": [],
   "source": []
  },
  {
   "cell_type": "code",
   "execution_count": null,
   "id": "b62ef607",
   "metadata": {},
   "outputs": [],
   "source": []
  }
 ],
 "metadata": {
  "kernelspec": {
   "display_name": "Python 3 (ipykernel)",
   "language": "python",
   "name": "python3"
  },
  "language_info": {
   "codemirror_mode": {
    "name": "ipython",
    "version": 3
   },
   "file_extension": ".py",
   "mimetype": "text/x-python",
   "name": "python",
   "nbconvert_exporter": "python",
   "pygments_lexer": "ipython3",
   "version": "3.10.4"
  }
 },
 "nbformat": 4,
 "nbformat_minor": 5
}
