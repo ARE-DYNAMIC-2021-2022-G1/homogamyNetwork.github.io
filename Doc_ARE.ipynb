{
 "cells": [
  {
   "cell_type": "code",
   "execution_count": 78,
   "id": "08b3c8dc",
   "metadata": {
    "scrolled": true
   },
   "outputs": [],
   "source": [
    "import numpy as np\n",
    "import matplotlib.pyplot as plt\n",
    "import random"
   ]
  },
  {
   "cell_type": "code",
   "execution_count": 79,
   "id": "72971376",
   "metadata": {},
   "outputs": [],
   "source": [
    "#fonction 1 : créer la liste d'individus\n",
    "#fonction 2 : fonctions déterminant les carcteres et qui remplie la liste\n",
    "#fonction 3 : meeting \n",
    "#fonction 4 : fonction qui prend en compte l'écart entre chaque individus\n",
    "#fonction 5 : fonction determine le temps estimer du couple\n",
    "#fonction 6 : tarcer un tableau avec nuages de points et lignes\n",
    "#fonction 7 : bonus-> mettre à jour la liste de départ en même temps que les meeting"
   ]
  },
  {
   "cell_type": "code",
   "execution_count": 80,
   "id": "81dc192e",
   "metadata": {},
   "outputs": [],
   "source": [
    "def creation(nb_pers):\n",
    "    j =0\n",
    "    res = []\n",
    "    while j < nb_pers:\n",
    "        res.append([])\n",
    "        j += 1\n",
    "   \n",
    "    return res"
   ]
  },
  {
   "cell_type": "code",
   "execution_count": 81,
   "id": "04655167",
   "metadata": {},
   "outputs": [
    {
     "data": {
      "text/plain": [
       "[[], [], [], [], [], [], [], [], [], []]"
      ]
     },
     "execution_count": 81,
     "metadata": {},
     "output_type": "execute_result"
    }
   ],
   "source": [
    "creation(10)"
   ]
  },
  {
   "cell_type": "code",
   "execution_count": 82,
   "id": "a11e066d",
   "metadata": {},
   "outputs": [],
   "source": [
    "def age():\n",
    "    return random.randint(18, 60)"
   ]
  },
  {
   "cell_type": "code",
   "execution_count": 83,
   "id": "83bc257c",
   "metadata": {},
   "outputs": [],
   "source": [
    "def generation_travail(): #probleme on peut avoir des gens de 50 ans classés en étudiant \n",
    "                          #dans la deuxième version-> rajouter des if en fct de l'age\n",
    "    a=random.random()\n",
    "    if a<0.33:\n",
    "        return \"etudiant\"\n",
    "    elif a<0.66:\n",
    "        return \"travaille\"\n",
    "    else:\n",
    "        return \"chomage\""
   ]
  },
  {
   "cell_type": "code",
   "execution_count": 84,
   "id": "8ef7d56a",
   "metadata": {},
   "outputs": [],
   "source": [
    "def nb_relation():\n",
    "    if age() <= 25: #conditionne le nb de relations passée en fonction de l'age pour se rapprocher de la realité\n",
    "        return random.randint(0, 6)\n",
    "    else:\n",
    "        a = random.random() # permet d'avoir peu de personnes avec peu de relation ou bcp trop\n",
    "        if a < 0.2:\n",
    "            return random.randint(0, 2)\n",
    "        elif a > 0.9:\n",
    "            return random.randint(10, 30)\n",
    "        else :\n",
    "            return random.randint(3, 9)"
   ]
  },
  {
   "cell_type": "code",
   "execution_count": 85,
   "id": "ae9132eb",
   "metadata": {},
   "outputs": [],
   "source": [
    "def moyenne_relation():\n",
    "    a = age()    \n",
    "    calcul = random.randint(3, (a * 12)-180) #choisi un nb de mois jusqu'à age moins 15ans pour se rapprocher du réel\n",
    "    temps_tot = nb_relation() * calcul\n",
    "    if nb_relation() == 0:\n",
    "        return 0\n",
    "    else :\n",
    "        while temps_tot > (a * 12)-180:\n",
    "            calcul = random.randint(3, (a * 12)-180)\n",
    "            temps_tot = temps_tot = nb_relation() * calcul\n",
    "        return calcul\n",
    "        \n",
    "# On peut rajouter des conditions pour que la durée moyenne soit cohérente avec l'age et le nb de relation"
   ]
  },
  {
   "cell_type": "code",
   "execution_count": 86,
   "id": "79437d26",
   "metadata": {},
   "outputs": [],
   "source": [
    "def envies():         # il faut revoir les if pour avoir des volontés plus proches de la vraie vie\n",
    "    a = random.random() \n",
    "    if age() < 25:\n",
    "        if a < 0.2:\n",
    "            return \"Q\"\n",
    "        elif a < 0.8:\n",
    "            return \"a voir\"\n",
    "        else :\n",
    "            return \"serieux\"\n",
    "    elif age() < 45:\n",
    "        if a < 0.2:\n",
    "            return \"Q\"\n",
    "        elif a < 0.6:\n",
    "            return \"a voir\"\n",
    "        else :\n",
    "            return \"serieux\"\n",
    "    else:\n",
    "        if a < 0.4:\n",
    "            return \"Q\"\n",
    "        elif a < 0.6:\n",
    "            return \"a voir\"\n",
    "        else :\n",
    "            return \"serieux\""
   ]
  },
  {
   "cell_type": "code",
   "execution_count": 87,
   "id": "38d8e014",
   "metadata": {},
   "outputs": [],
   "source": [
    "def caract():#chacun des chiffre représente un caractère \"type\" qu'on peut retrouver dans le MBTI\n",
    "    return random.randint(1, 4)  #les analystes, les aventuriers, les diplomates et les sentinelles"
   ]
  },
  {
   "cell_type": "code",
   "execution_count": 88,
   "id": "fc5c1f66",
   "metadata": {},
   "outputs": [],
   "source": [
    "#il faudra une fonction qui remplace les valeurs de creation par les criteres définis par les fonctions\n",
    "def vraie_liste(nb_pers):\n",
    "    a = 0\n",
    "    l = creation(nb_pers)\n",
    "    res = []\n",
    "    for a in range(len(l)):\n",
    "        l[a].append(age())\n",
    "        l[a].append(generation_travail())\n",
    "        l[a].append(nb_relation())\n",
    "        l[a].append(moyenne_relation())\n",
    "        l[a].append(envies())\n",
    "        l[a].append(caract())\n",
    "        \n",
    "    return l"
   ]
  },
  {
   "cell_type": "code",
   "execution_count": 89,
   "id": "51aef34e",
   "metadata": {},
   "outputs": [
    {
     "data": {
      "text/plain": [
       "[[20, 'chomage', 1, 491, 'serieux', 3],\n",
       " [56, 'etudiant', 7, 47, 'serieux', 2],\n",
       " [19, 'chomage', 5, 100, 'a voir', 1],\n",
       " [55, 'etudiant', 6, 107, 'serieux', 1],\n",
       " [50, 'etudiant', 2, 5, 'Q', 3],\n",
       " [22, 'chomage', 22, 439, 'Q', 4],\n",
       " [33, 'chomage', 0, 434, 'a voir', 1],\n",
       " [51, 'chomage', 8, 41, 'serieux', 2],\n",
       " [45, 'travaille', 8, 99, 'a voir', 3],\n",
       " [37, 'travaille', 2, 61, 'serieux', 1]]"
      ]
     },
     "execution_count": 89,
     "metadata": {},
     "output_type": "execute_result"
    }
   ],
   "source": [
    "vraie_liste(10)"
   ]
  },
  {
   "cell_type": "code",
   "execution_count": 90,
   "id": "ed3c8b86",
   "metadata": {},
   "outputs": [],
   "source": [
    "def meeting(): \n",
    "    f = vraie_liste(10)\n",
    "    a = f[random.randint(0, len(f)-1)]    \n",
    "    b = f[random.randint(0, len(f)-1)]\n",
    "    while b == a:                     #b peut avoir les mêmes valeurs que a mais il ne faut pas que ce soit la même personne\n",
    "        b = f[random.randint(0, len(f)-1)]\n",
    "    return a, b\n",
    "    "
   ]
  },
  {
   "cell_type": "code",
   "execution_count": 91,
   "id": "6b13eafb",
   "metadata": {},
   "outputs": [
    {
     "data": {
      "text/plain": [
       "([22, 'travaille', 8, 151, 'serieux', 3], [39, 'etudiant', 4, 64, 'a voir', 3])"
      ]
     },
     "execution_count": 91,
     "metadata": {},
     "output_type": "execute_result"
    }
   ],
   "source": [
    "meeting()"
   ]
  },
  {
   "cell_type": "code",
   "execution_count": 94,
   "id": "6776c23b",
   "metadata": {},
   "outputs": [],
   "source": [
    "def meeting_duree(f,h): #renvoie la durée supposée et le nb de caracteres en commun\n",
    "    res=0\n",
    "  \n",
    "    print(f,h)\n",
    "    l=[]\n",
    "    for i in range(len(f)):\n",
    "        if f[i]==h[i]:\n",
    "            res=res+1\n",
    "    if res >= 3:\n",
    "        l.append(res/3*random.randint(3,30))\n",
    "        l.append(res)\n",
    "    else:\n",
    "        l.append(res/3*random.randint(1,25))\n",
    "        l.append(res)\n",
    "    \n",
    "    return l           # avec la creation d'une liste au hasard il y a très peu de point communs donc il faut la distance"
   ]
  },
  {
   "cell_type": "code",
   "execution_count": 95,
   "id": "81888f05",
   "metadata": {},
   "outputs": [
    {
     "name": "stdout",
     "output_type": "stream",
     "text": [
      "[18, 'hetero', 'etudiant'] [18, 'hetero', 'etudiant']\n"
     ]
    },
    {
     "data": {
      "text/plain": [
       "[15.0, 3]"
      ]
     },
     "execution_count": 95,
     "metadata": {},
     "output_type": "execute_result"
    }
   ],
   "source": [
    "meeting_duree([18,\"hetero\",\"etudiant\"],[18,\"hetero\",\"etudiant\"])"
   ]
  },
  {
   "cell_type": "code",
   "execution_count": 96,
   "id": "c6f10b27",
   "metadata": {},
   "outputs": [],
   "source": [
    " #on veut tracer un graphe du temps estimer de la relation en fonction des points communs\n",
    "def coordonees(nb_tirage, taille): #on rentre le nombre de tirages qu'on souhaite faire et la taille de la liste de départ\n",
    "    f = creation(taille)\n",
    "    duo = meeting()\n",
    "    l = meeting_duree(duo[0], duo[1])    \n",
    "    i=0\n",
    "    plt.title(\"durée du couple en fonction du nombre de points communs\")\n",
    "    plt.axis([0, len(duo[0]), 0, 50])# définie l'échelle du graphe\n",
    "    while i < nb_tirage:\n",
    "        duo = meeting()\n",
    "        l = meeting_duree(duo[0], duo[1]) \n",
    "        x=l[1]\n",
    "        y=l[0]\n",
    "        i += 1\n",
    "        plt.scatter(x,y)\n",
    "    plt.show \n",
    "\n",
    "\n"
   ]
  },
  {
   "cell_type": "code",
   "execution_count": 97,
   "id": "9d7b6f0b",
   "metadata": {},
   "outputs": [
    {
     "name": "stdout",
     "output_type": "stream",
     "text": [
      "[53, 'travaille', 0, 3, 'Q', 3] [54, 'chomage', 1, 28, 'a voir', 4]\n",
      "[54, 'etudiant', 3, 243, 'a voir', 2] [18, 'travaille', 4, 170, 'Q', 4]\n",
      "[34, 'etudiant', 0, 37, 'serieux', 2] [42, 'etudiant', 8, 0, 'a voir', 3]\n",
      "[57, 'travaille', 1, 13, 'a voir', 2] [26, 'chomage', 2, 20, 'a voir', 4]\n",
      "[50, 'chomage', 4, 10, 'a voir', 4] [35, 'chomage', 8, 91, 'Q', 1]\n",
      "[53, 'travaille', 9, 37, 'a voir', 3] [40, 'chomage', 3, 49, 'serieux', 3]\n",
      "[55, 'travaille', 1, 343, 'Q', 3] [37, 'travaille', 9, 150, 'a voir', 3]\n",
      "[55, 'travaille', 4, 102, 'Q', 1] [18, 'travaille', 9, 147, 'a voir', 2]\n",
      "[36, 'chomage', 8, 11, 'a voir', 2] [34, 'etudiant', 6, 122, 'a voir', 2]\n",
      "[48, 'etudiant', 5, 21, 'serieux', 4] [35, 'chomage', 4, 8, 'serieux', 1]\n",
      "[18, 'chomage', 6, 0, 'Q', 2] [24, 'chomage', 8, 19, 'serieux', 3]\n",
      "[39, 'etudiant', 6, 0, 'serieux', 2] [38, 'etudiant', 8, 117, 'a voir', 2]\n",
      "[34, 'travaille', 7, 102, 'a voir', 4] [52, 'travaille', 1, 11, 'a voir', 2]\n",
      "[27, 'travaille', 5, 174, 'Q', 1] [33, 'etudiant', 5, 231, 'a voir', 3]\n",
      "[60, 'chomage', 2, 417, 'Q', 1] [22, 'chomage', 6, 5, 'a voir', 4]\n",
      "[18, 'chomage', 3, 16, 'a voir', 4] [22, 'travaille', 8, 76, 'serieux', 4]\n",
      "[20, 'travaille', 9, 20, 'serieux', 4] [47, 'etudiant', 6, 4, 'serieux', 3]\n",
      "[47, 'travaille', 1, 146, 'a voir', 4] [39, 'travaille', 8, 275, 'serieux', 4]\n",
      "[55, 'travaille', 8, 8, 'Q', 4] [47, 'chomage', 0, 31, 'serieux', 2]\n",
      "[23, 'etudiant', 1, 95, 'serieux', 3] [31, 'travaille', 9, 39, 'a voir', 3]\n",
      "[60, 'chomage', 3, 64, 'a voir', 3] [20, 'travaille', 3, 208, 'a voir', 4]\n",
      "[22, 'etudiant', 2, 71, 'serieux', 3] [23, 'chomage', 5, 40, 'a voir', 4]\n",
      "[31, 'etudiant', 1, 54, 'Q', 4] [30, 'etudiant', 3, 0, 'a voir', 4]\n",
      "[34, 'chomage', 4, 40, 'Q', 1] [56, 'etudiant', 3, 0, 'serieux', 1]\n",
      "[50, 'travaille', 13, 93, 'a voir', 3] [19, 'etudiant', 4, 114, 'a voir', 1]\n",
      "[30, 'chomage', 0, 37, 'serieux', 2] [54, 'travaille', 4, 119, 'serieux', 4]\n",
      "[58, 'etudiant', 5, 29, 'a voir', 2] [18, 'chomage', 3, 13, 'a voir', 4]\n",
      "[21, 'travaille', 15, 333, 'serieux', 1] [27, 'travaille', 1, 36, 'a voir', 3]\n",
      "[31, 'etudiant', 2, 36, 'a voir', 1] [43, 'etudiant', 0, 23, 'a voir', 4]\n",
      "[60, 'chomage', 5, 8, 'a voir', 2] [53, 'travaille', 7, 31, 'Q', 4]\n",
      "[41, 'chomage', 1, 27, 'Q', 4] [57, 'travaille', 7, 263, 'Q', 2]\n",
      "[44, 'etudiant', 8, 17, 'Q', 4] [28, 'etudiant', 9, 381, 'a voir', 1]\n",
      "[25, 'travaille', 8, 28, 'Q', 4] [40, 'chomage', 9, 4, 'a voir', 4]\n",
      "[56, 'travaille', 3, 100, 'a voir', 2] [56, 'chomage', 25, 198, 'Q', 4]\n",
      "[45, 'chomage', 5, 0, 'a voir', 3] [33, 'etudiant', 5, 35, 'serieux', 2]\n",
      "[20, 'travaille', 3, 43, 'Q', 3] [34, 'travaille', 7, 30, 'a voir', 1]\n",
      "[47, 'chomage', 2, 368, 'Q', 2] [45, 'travaille', 9, 102, 'Q', 2]\n",
      "[48, 'chomage', 1, 85, 'a voir', 4] [51, 'etudiant', 6, 65, 'a voir', 4]\n",
      "[41, 'chomage', 4, 47, 'Q', 2] [56, 'travaille', 8, 11, 'serieux', 3]\n",
      "[43, 'chomage', 3, 23, 'serieux', 3] [50, 'etudiant', 6, 95, 'serieux', 4]\n",
      "[44, 'etudiant', 0, 43, 'a voir', 2] [24, 'etudiant', 5, 77, 'serieux', 2]\n",
      "[42, 'chomage', 5, 115, 'serieux', 1] [24, 'chomage', 7, 0, 'serieux', 3]\n",
      "[45, 'chomage', 6, 44, 'serieux', 3] [31, 'chomage', 4, 62, 'a voir', 2]\n",
      "[36, 'etudiant', 5, 71, 'serieux', 1] [54, 'chomage', 3, 23, 'a voir', 3]\n",
      "[28, 'etudiant', 30, 32, 'serieux', 4] [49, 'chomage', 5, 61, 'a voir', 2]\n",
      "[51, 'chomage', 7, 4, 'Q', 3] [20, 'etudiant', 1, 65, 'Q', 2]\n",
      "[26, 'travaille', 14, 0, 'Q', 1] [59, 'etudiant', 3, 9, 'serieux', 3]\n",
      "[44, 'etudiant', 1, 137, 'a voir', 3] [41, 'chomage', 9, 131, 'serieux', 1]\n",
      "[50, 'chomage', 5, 104, 'a voir', 3] [30, 'chomage', 2, 162, 'a voir', 3]\n",
      "[20, 'travaille', 2, 31, 'Q', 1] [50, 'chomage', 3, 112, 'Q', 1]\n",
      "[55, 'etudiant', 4, 89, 'Q', 3] [32, 'etudiant', 1, 179, 'a voir', 1]\n",
      "[23, 'travaille', 7, 15, 'serieux', 4] [20, 'etudiant', 3, 403, 'serieux', 4]\n",
      "[48, 'etudiant', 2, 5, 'Q', 2] [26, 'etudiant', 13, 333, 'Q', 2]\n",
      "[33, 'etudiant', 14, 8, 'a voir', 3] [33, 'etudiant', 1, 0, 'Q', 3]\n",
      "[27, 'chomage', 9, 3, 'a voir', 3] [52, 'etudiant', 1, 91, 'serieux', 4]\n",
      "[36, 'etudiant', 6, 40, 'serieux', 4] [22, 'chomage', 6, 62, 'serieux', 3]\n",
      "[28, 'etudiant', 4, 14, 'serieux', 3] [39, 'travaille', 7, 18, 'serieux', 4]\n",
      "[20, 'etudiant', 8, 36, 'serieux', 3] [25, 'chomage', 5, 364, 'serieux', 2]\n",
      "[21, 'travaille', 3, 7, 'Q', 1] [19, 'etudiant', 4, 36, 'a voir', 4]\n",
      "[37, 'etudiant', 1, 94, 'a voir', 1] [54, 'travaille', 3, 180, 'Q', 1]\n",
      "[54, 'travaille', 3, 420, 'serieux', 4] [33, 'travaille', 9, 9, 'serieux', 1]\n",
      "[19, 'etudiant', 8, 94, 'serieux', 3] [41, 'etudiant', 8, 34, 'a voir', 3]\n",
      "[35, 'etudiant', 4, 93, 'a voir', 3] [43, 'etudiant', 1, 16, 'serieux', 2]\n",
      "[59, 'etudiant', 0, 3, 'Q', 2] [60, 'chomage', 27, 11, 'a voir', 1]\n",
      "[21, 'chomage', 4, 16, 'serieux', 3] [47, 'chomage', 7, 224, 'a voir', 2]\n",
      "[32, 'etudiant', 1, 10, 'a voir', 2] [55, 'etudiant', 7, 63, 'a voir', 1]\n",
      "[56, 'travaille', 2, 437, 'a voir', 4] [43, 'chomage', 0, 0, 'serieux', 3]\n",
      "[34, 'travaille', 1, 13, 'serieux', 2] [34, 'travaille', 11, 233, 'serieux', 1]\n",
      "[41, 'chomage', 5, 10, 'serieux', 4] [33, 'etudiant', 25, 210, 'a voir', 3]\n",
      "[34, 'chomage', 5, 267, 'a voir', 1] [21, 'etudiant', 8, 0, 'Q', 2]\n",
      "[29, 'chomage', 9, 24, 'Q', 3] [36, 'etudiant', 0, 42, 'Q', 2]\n",
      "[38, 'etudiant', 6, 33, 'a voir', 1] [52, 'chomage', 3, 17, 'a voir', 4]\n",
      "[37, 'etudiant', 2, 17, 'serieux', 2] [29, 'etudiant', 1, 28, 'serieux', 1]\n",
      "[29, 'etudiant', 0, 26, 'a voir', 3] [57, 'etudiant', 9, 175, 'serieux', 1]\n",
      "[58, 'etudiant', 5, 66, 'a voir', 4] [46, 'travaille', 8, 38, 'Q', 1]\n",
      "[42, 'chomage', 2, 56, 'serieux', 4] [26, 'travaille', 2, 366, 'a voir', 1]\n",
      "[58, 'chomage', 9, 36, 'a voir', 3] [32, 'etudiant', 8, 32, 'Q', 3]\n",
      "[52, 'etudiant', 6, 10, 'serieux', 2] [18, 'chomage', 1, 149, 'a voir', 2]\n",
      "[23, 'travaille', 1, 61, 'Q', 3] [52, 'travaille', 4, 151, 'a voir', 1]\n",
      "[56, 'etudiant', 2, 418, 'serieux', 2] [31, 'etudiant', 0, 239, 'a voir', 2]\n",
      "[25, 'travaille', 6, 102, 'a voir', 4] [53, 'travaille', 9, 0, 'a voir', 4]\n",
      "[41, 'chomage', 1, 424, 'a voir', 4] [56, 'chomage', 1, 39, 'a voir', 4]\n",
      "[43, 'travaille', 3, 18, 'Q', 2] [56, 'travaille', 26, 82, 'serieux', 3]\n",
      "[35, 'etudiant', 6, 0, 'Q', 1] [59, 'etudiant', 0, 26, 'serieux', 4]\n",
      "[34, 'etudiant', 0, 53, 'Q', 1] [36, 'chomage', 4, 77, 'serieux', 2]\n",
      "[24, 'etudiant', 2, 25, 'a voir', 4] [55, 'etudiant', 6, 231, 'a voir', 3]\n",
      "[57, 'chomage', 6, 26, 'a voir', 1] [53, 'chomage', 5, 0, 'a voir', 1]\n",
      "[27, 'chomage', 6, 18, 'a voir', 1] [39, 'travaille', 3, 8, 'Q', 2]\n",
      "[52, 'etudiant', 3, 133, 'a voir', 2] [45, 'chomage', 4, 274, 'a voir', 1]\n",
      "[20, 'chomage', 4, 69, 'a voir', 2] [57, 'travaille', 4, 185, 'serieux', 2]\n",
      "[58, 'etudiant', 0, 27, 'a voir', 4] [22, 'chomage', 3, 152, 'a voir', 3]\n",
      "[31, 'etudiant', 1, 0, 'Q', 2] [48, 'chomage', 7, 78, 'serieux', 3]\n",
      "[31, 'chomage', 8, 0, 'a voir', 4] [38, 'chomage', 6, 53, 'serieux', 4]\n",
      "[33, 'chomage', 0, 0, 'a voir', 3] [24, 'travaille', 6, 172, 'serieux', 1]\n",
      "[57, 'etudiant', 6, 141, 'a voir', 4] [44, 'travaille', 3, 96, 'a voir', 2]\n",
      "[28, 'etudiant', 9, 0, 'a voir', 3] [48, 'travaille', 3, 31, 'serieux', 3]\n",
      "[24, 'chomage', 6, 74, 'serieux', 2] [27, 'chomage', 11, 76, 'a voir', 4]\n",
      "[21, 'chomage', 9, 31, 'serieux', 2] [48, 'chomage', 2, 32, 'a voir', 1]\n",
      "[47, 'etudiant', 3, 111, 'serieux', 4] [29, 'etudiant', 5, 64, 'serieux', 4]\n",
      "[24, 'chomage', 3, 62, 'serieux', 2] [38, 'etudiant', 1, 85, 'serieux', 1]\n",
      "[55, 'etudiant', 3, 111, 'Q', 2] [48, 'etudiant', 9, 350, 'serieux', 1]\n"
     ]
    },
    {
     "data": {
      "image/png": "[encoded data removed]",
      "text/plain": [
       "<Figure size 432x288 with 1 Axes>"
      ]
     },
     "metadata": {
      "needs_background": "light"
     },
     "output_type": "display_data"
    }
   ],
   "source": [
    "coordonees(100, 100) #version 1 on obtient une première courbe qui tient la route\n",
    "                    #il faut affiner les fct qui détermine les individus car il y a des incohérences"
   ]
  },
  {
   "cell_type": "code",
   "execution_count": 98,
   "id": "a6312483",
   "metadata": {},
   "outputs": [
    {
     "name": "stdout",
     "output_type": "stream",
     "text": [
      "[45, 'etudiant', 1, 466, 'serieux', 3] [52, 'chomage', 7, 0, 'serieux', 1]\n"
     ]
    },
    {
     "data": {
      "text/plain": [
       "[4.333333333333333, 1]"
      ]
     },
     "execution_count": 98,
     "metadata": {},
     "output_type": "execute_result"
    }
   ],
   "source": [
    "meeting_duree([45, 'etudiant', 1, 466, 'serieux', 3], [52, 'chomage', 7, 0, 'serieux', 1])"
   ]
  },
  {
   "cell_type": "code",
   "execution_count": null,
   "id": "3bd4522e",
   "metadata": {},
   "outputs": [],
   "source": []
  },
  {
   "cell_type": "code",
   "execution_count": null,
   "id": "915bc6b6",
   "metadata": {},
   "outputs": [],
   "source": []
  },
  {
   "cell_type": "code",
   "execution_count": null,
   "id": "de9a3b7d",
   "metadata": {},
   "outputs": [],
   "source": []
  },
  {
   "cell_type": "code",
   "execution_count": null,
   "id": "b62ef607",
   "metadata": {},
   "outputs": [],
   "source": []
  }
 ],
 "metadata": {
  "kernelspec": {
   "display_name": "Python 3 (ipykernel)",
   "language": "python",
   "name": "python3"
  },
  "language_info": {
   "codemirror_mode": {
    "name": "ipython",
    "version": 3
   },
   "file_extension": ".py",
   "mimetype": "text/x-python",
   "name": "python",
   "nbconvert_exporter": "python",
   "pygments_lexer": "ipython3",
   "version": "3.10.4"
  }
 },
 "nbformat": 4,
 "nbformat_minor": 5
}
