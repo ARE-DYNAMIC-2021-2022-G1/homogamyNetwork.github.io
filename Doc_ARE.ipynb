{
 "cells": [
  {
   "cell_type": "code",
   "execution_count": 221,
   "id": "08b3c8dc",
   "metadata": {
    "scrolled": true
   },
   "outputs": [],
   "source": [
    "import numpy as np\n",
    "import matplotlib.pyplot as plt\n",
    "import pandas as pd\n",
    "import random"
   ]
  },
  {
   "cell_type": "code",
   "execution_count": 222,
   "id": "72971376",
   "metadata": {},
   "outputs": [],
   "source": [
    "#fonction 1 : créer la liste d'individus\n",
    "#fonction 2 : fonctions déterminant les carcteres et qui remplie la liste\n",
    "#fonction 3 : meeting \n",
    "#fonction 4 : fonction qui prend en compte l'écart entre chaque individus\n",
    "#fonction 5 : fonction determine le temps estimer du couple\n",
    "#fonction 6 : tarcer un tableau avec nuages de points et lignes\n",
    "#fonction 7 : bonus-> mettre à jour la liste de départ en même temps que les meeting"
   ]
  },
  {
   "cell_type": "code",
   "execution_count": 223,
   "id": "da23b825",
   "metadata": {},
   "outputs": [],
   "source": [
    "def panel_personne(nb_criteres, nb_pers):\n",
    "    a=0\n",
    "    b=0\n",
    "    i = 0\n",
    "    l=[]\n",
    "    res = []\n",
    "    while i < nb_pers:\n",
    "        while a<nb_criteres:\n",
    "            a+=1\n",
    "            b= random.random()\n",
    "            if b< 0.3:\n",
    "                l.append(random.randint(18,25))\n",
    "            elif b<0.6:\n",
    "                l.append(random.randint(25, 35))\n",
    "            else:\n",
    "                l.append(random.randint(35, 50))\n",
    "        res.append(l)\n",
    "        i += 1\n",
    "                \n",
    "    \n",
    "    return res"
   ]
  },
  {
   "cell_type": "code",
   "execution_count": null,
   "id": "e90e7333",
   "metadata": {},
   "outputs": [],
   "source": []
  },
  {
   "cell_type": "code",
   "execution_count": 224,
   "id": "81dc192e",
   "metadata": {},
   "outputs": [],
   "source": [
    "def creation(nb_pers):\n",
    "    j =0\n",
    "    res = []\n",
    "    while j < nb_pers:\n",
    "        res.append([])\n",
    "        j += 1\n",
    "   \n",
    "    return res"
   ]
  },
  {
   "cell_type": "code",
   "execution_count": 225,
   "id": "04655167",
   "metadata": {},
   "outputs": [
    {
     "data": {
      "text/plain": [
       "[[], [], [], [], [], [], [], [], [], []]"
      ]
     },
     "execution_count": 225,
     "metadata": {},
     "output_type": "execute_result"
    }
   ],
   "source": [
    "creation(10)"
   ]
  },
  {
   "cell_type": "code",
   "execution_count": 226,
   "id": "fc5c1f66",
   "metadata": {},
   "outputs": [],
   "source": [
    "#il faudra une fonction qui remplace les valeurs de creation par les criteres définis par les fonctions\n",
    "def vraie_liste(nb_pers):\n",
    "    a = 0\n",
    "    l = creation(nb_pers)\n",
    "    res = []\n",
    "    for a in range(len(l)):\n",
    "        l[a].append(age())\n",
    "        l[a].append(generation_travail())\n",
    "        l[a].append(nb_relation())\n",
    "        l[a].append(moyenne_relation())\n",
    "        l[a].append(envies())\n",
    "        l[a].append(caract())\n",
    "        \n",
    "    return l"
   ]
  },
  {
   "cell_type": "code",
   "execution_count": 227,
   "id": "51aef34e",
   "metadata": {},
   "outputs": [
    {
     "data": {
      "text/plain": [
       "[[29, 'travaille', 1, 224, 'a voir', 3],\n",
       " [32, 'travaille', 5, 14, 'a voir', 1],\n",
       " [21, 'etudiant', 6, 16, 'serieux', 4],\n",
       " [38, 'travaille', 9, 178, 'Q', 4],\n",
       " [44, 'etudiant', 29, 25, 'serieux', 3],\n",
       " [47, 'travaille', 27, 123, 'serieux', 2],\n",
       " [37, 'travaille', 7, 34, 'a voir', 4],\n",
       " [53, 'chomage', 10, 43, 'a voir', 3],\n",
       " [54, 'etudiant', 6, 3, 'Q', 3],\n",
       " [23, 'chomage', 6, 339, 'serieux', 3]]"
      ]
     },
     "execution_count": 227,
     "metadata": {},
     "output_type": "execute_result"
    }
   ],
   "source": [
    "vraie_liste(10)"
   ]
  },
  {
   "cell_type": "code",
   "execution_count": 228,
   "id": "ed3c8b86",
   "metadata": {},
   "outputs": [],
   "source": [
    "def meeting(): \n",
    "    f = vraie_liste(10)\n",
    "    a = f[random.randint(0, len(f)-1)]    \n",
    "    b = f[random.randint(0, len(f)-1)]\n",
    "    while b == a:                     #b peut avoir les mêmes valeurs que a mais il ne faut pas que ce soit la même personne\n",
    "        b = f[random.randint(0, len(f)-1)]\n",
    "    return a, b\n",
    "    "
   ]
  },
  {
   "cell_type": "code",
   "execution_count": 229,
   "id": "6b13eafb",
   "metadata": {},
   "outputs": [
    {
     "data": {
      "text/plain": [
       "([51, 'chomage', 3, 85, 'a voir', 3], [49, 'etudiant', 6, 3, 'a voir', 1])"
      ]
     },
     "execution_count": 229,
     "metadata": {},
     "output_type": "execute_result"
    }
   ],
   "source": [
    "meeting()"
   ]
  },
  {
   "cell_type": "code",
   "execution_count": 230,
   "id": "6776c23b",
   "metadata": {},
   "outputs": [],
   "source": [
    "def meeting_duree(f,h): #renvoie la durée supposée et le nb de caracteres en commun\n",
    "    res=0\n",
    "    m = meeting()\n",
    "    f = m[0]\n",
    "    h = m[1]\n",
    "    print(m)\n",
    "    l=[]\n",
    "    for i in range(len(f)):\n",
    "        if f[i]==h[i]:\n",
    "            res=res+1\n",
    "    l.append(res/3*random.randint(0,30))\n",
    "    l.append(res)\n",
    "    return l           # avec la creation d'une liste au hasard il y a très peu de point communs donc il faut la distance"
   ]
  },
  {
   "cell_type": "code",
   "execution_count": 231,
   "id": "f326a671",
   "metadata": {},
   "outputs": [
    {
     "name": "stdout",
     "output_type": "stream",
     "text": [
      "([18, 'chomage', 1, 64, 'Q', 3], [31, 'etudiant', 7, 100, 'a voir', 4])\n"
     ]
    },
    {
     "data": {
      "text/plain": [
       "[0.0, 0]"
      ]
     },
     "execution_count": 231,
     "metadata": {},
     "output_type": "execute_result"
    }
   ],
   "source": [
    " meeting_duree([],[])"
   ]
  },
  {
   "cell_type": "code",
   "execution_count": 232,
   "id": "bc012a1a",
   "metadata": {},
   "outputs": [],
   "source": [
    "def generation_travail(): #probleme on peut avoir des gens de 50 ans classés en étudiant \n",
    "                          #dans la deuxième version-> rajouter des if en fct de l'age\n",
    "    a=random.random()\n",
    "    if a<0.33:\n",
    "        return \"etudiant\"\n",
    "    elif a<0.66:\n",
    "        return \"travaille\"\n",
    "    else:\n",
    "        return \"chomage\""
   ]
  },
  {
   "cell_type": "code",
   "execution_count": 233,
   "id": "b02f29f5",
   "metadata": {},
   "outputs": [
    {
     "data": {
      "text/plain": [
       "'chomage'"
      ]
     },
     "execution_count": 233,
     "metadata": {},
     "output_type": "execute_result"
    }
   ],
   "source": [
    "generation_travail()"
   ]
  },
  {
   "cell_type": "code",
   "execution_count": 234,
   "id": "0dc88de0",
   "metadata": {},
   "outputs": [],
   "source": [
    "def age():\n",
    "    return random.randint(18, 60)"
   ]
  },
  {
   "cell_type": "code",
   "execution_count": 235,
   "id": "e9a1fa9a",
   "metadata": {},
   "outputs": [
    {
     "data": {
      "text/plain": [
       "22"
      ]
     },
     "execution_count": 235,
     "metadata": {},
     "output_type": "execute_result"
    }
   ],
   "source": [
    "age()"
   ]
  },
  {
   "cell_type": "code",
   "execution_count": 236,
   "id": "ad8349cf",
   "metadata": {},
   "outputs": [],
   "source": [
    "def nb_relation():\n",
    "    if age() <= 25: #conditionne le nb de relations passée en fonction de l'age pour se rapprocher de la realité\n",
    "        return random.randint(0, 6)\n",
    "    else:\n",
    "        a = random.random() # permet d'avoir peu de personnes avec peu de relation ou bcp trop\n",
    "        if a < 0.2:\n",
    "            return random.randint(0, 2)\n",
    "        elif a > 0.9:\n",
    "            return random.randint(10, 30)\n",
    "        else :\n",
    "            return random.randint(3, 9)\n",
    "    \n"
   ]
  },
  {
   "cell_type": "code",
   "execution_count": 237,
   "id": "9d41e1e4",
   "metadata": {},
   "outputs": [
    {
     "data": {
      "text/plain": [
       "8"
      ]
     },
     "execution_count": 237,
     "metadata": {},
     "output_type": "execute_result"
    }
   ],
   "source": [
    "nb_relation()"
   ]
  },
  {
   "cell_type": "code",
   "execution_count": 238,
   "id": "636649d1",
   "metadata": {},
   "outputs": [],
   "source": [
    "def moyenne_relation():\n",
    "    a = age()    \n",
    "    calcul = random.randint(3, (a * 12)-180) #choisi un nb de mois jusqu'à age moins 15ans pour se rapprocher du réel\n",
    "    temps_tot = nb_relation() * calcul\n",
    "    \n",
    "    while temps_tot > (a * 12)-180:\n",
    "        calcul = random.randint(3, (a * 12)-180)\n",
    "        temps_tot = temps_tot = nb_relation() * calcul\n",
    "    return calcul\n",
    "        \n",
    "# On peut rajouter des conditions pour que la durée moyenne soit cohérente avec l'age et le nb de relation"
   ]
  },
  {
   "cell_type": "code",
   "execution_count": 239,
   "id": "2b96ca7b",
   "metadata": {},
   "outputs": [
    {
     "data": {
      "text/plain": [
       "16"
      ]
     },
     "execution_count": 239,
     "metadata": {},
     "output_type": "execute_result"
    }
   ],
   "source": [
    "moyenne_relation()"
   ]
  },
  {
   "cell_type": "code",
   "execution_count": 240,
   "id": "6050f447",
   "metadata": {},
   "outputs": [],
   "source": [
    "def envies():         # il faut revoir les if pour avoir des volontés plus proches de la vraie vie\n",
    "    a = random.random() \n",
    "    if age() < 25:\n",
    "        if a < 0.2:\n",
    "            return \"Q\"\n",
    "        elif a < 0.8:\n",
    "            return \"a voir\"\n",
    "        else :\n",
    "            return \"serieux\"\n",
    "    elif age() < 45:\n",
    "        if a < 0.2:\n",
    "            return \"Q\"\n",
    "        elif a < 0.6:\n",
    "            return \"a voir\"\n",
    "        else :\n",
    "            return \"serieux\"\n",
    "    else:\n",
    "        if a < 0.4:\n",
    "            return \"Q\"\n",
    "        elif a < 0.6:\n",
    "            return \"a voir\"\n",
    "        else :\n",
    "            return \"serieux\"\n",
    "            "
   ]
  },
  {
   "cell_type": "code",
   "execution_count": 241,
   "id": "b8e625d2",
   "metadata": {},
   "outputs": [
    {
     "data": {
      "text/plain": [
       "'Q'"
      ]
     },
     "execution_count": 241,
     "metadata": {},
     "output_type": "execute_result"
    }
   ],
   "source": [
    "envies()"
   ]
  },
  {
   "cell_type": "code",
   "execution_count": 242,
   "id": "4709651d",
   "metadata": {},
   "outputs": [],
   "source": [
    "def caract():#chacun des chiffre représente un caractère \"type\" qu'on peut retrouver dans le MBTI\n",
    "    return random.randint(1, 4)  #les analystes, les aventuriers, les diplomates et les sentinelles"
   ]
  },
  {
   "cell_type": "code",
   "execution_count": 243,
   "id": "81888f05",
   "metadata": {},
   "outputs": [
    {
     "name": "stdout",
     "output_type": "stream",
     "text": [
      "([31, 'chomage', 0, 70, 'serieux', 3], [26, 'travaille', 3, 25, 'Q', 4])\n"
     ]
    },
    {
     "data": {
      "text/plain": [
       "[0.0, 0]"
      ]
     },
     "execution_count": 243,
     "metadata": {},
     "output_type": "execute_result"
    }
   ],
   "source": [
    "meeting_duree([18,\"hetero\",\"etudiant\"],[18,\"hetero\",\"etudiant\"])"
   ]
  },
  {
   "cell_type": "code",
   "execution_count": 244,
   "id": "c6f10b27",
   "metadata": {},
   "outputs": [],
   "source": [
    " #on veut tracer un graphe du temps estimer de la relation en fonction des points communs\n",
    "def coordonees(nb_tirage, taille): #on rentre le nombre de tirages qu'on souhaite faire et la taille de la liste de départ\n",
    "    f = creation(taille)\n",
    "    duo = meeting()\n",
    "    l = meeting_duree(duo[0], duo[1])    \n",
    "    i=0\n",
    "    plt.title(\"durée du couple en fonction du nombre de points communs\")\n",
    "    plt.axis([0, len(duo[0]), 0, 50])# définie l'échelle du graphe\n",
    "    while i < nb_tirage:\n",
    "        duo = meeting()\n",
    "        l = meeting_duree(duo[0], duo[1]) \n",
    "        x=l[1]\n",
    "        y=l[0]\n",
    "        i += 1\n",
    "        plt.scatter(x,y)\n",
    "    plt.show \n",
    "\n",
    "\n"
   ]
  },
  {
   "cell_type": "code",
   "execution_count": 245,
   "id": "9d7b6f0b",
   "metadata": {},
   "outputs": [
    {
     "name": "stdout",
     "output_type": "stream",
     "text": [
      "([54, 'chomage', 22, 67, 'serieux', 1], [49, 'etudiant', 7, 61, 'Q', 4])\n",
      "([30, 'etudiant', 3, 60, 'a voir', 4], [49, 'travaille', 2, 41, 'serieux', 4])\n",
      "([49, 'etudiant', 6, 111, 'a voir', 3], [59, 'chomage', 9, 67, 'Q', 3])\n",
      "([57, 'chomage', 7, 68, 'a voir', 4], [25, 'travaille', 6, 75, 'a voir', 1])\n",
      "([41, 'chomage', 3, 4, 'Q', 1], [32, 'travaille', 2, 15, 'a voir', 2])\n",
      "([38, 'chomage', 1, 139, 'a voir', 3], [26, 'travaille', 1, 54, 'serieux', 1])\n",
      "([36, 'travaille', 7, 162, 'a voir', 1], [47, 'travaille', 9, 204, 'serieux', 4])\n",
      "([27, 'etudiant', 8, 18, 'serieux', 2], [58, 'etudiant', 8, 318, 'a voir', 3])\n",
      "([18, 'chomage', 8, 40, 'Q', 1], [39, 'chomage', 0, 4, 'Q', 2])\n",
      "([43, 'etudiant', 5, 13, 'serieux', 3], [41, 'chomage', 6, 56, 'serieux', 2])\n",
      "([59, 'travaille', 3, 144, 'Q', 4], [24, 'travaille', 3, 274, 'Q', 4])\n",
      "([53, 'chomage', 9, 66, 'a voir', 1], [34, 'etudiant', 9, 62, 'serieux', 1])\n",
      "([53, 'chomage', 6, 59, 'serieux', 4], [58, 'chomage', 4, 120, 'serieux', 1])\n",
      "([49, 'etudiant', 2, 134, 'a voir', 4], [52, 'etudiant', 3, 276, 'serieux', 2])\n",
      "([25, 'etudiant', 4, 8, 'Q', 1], [44, 'travaille', 9, 53, 'Q', 4])\n",
      "([32, 'etudiant', 0, 171, 'serieux', 3], [50, 'etudiant', 12, 101, 'a voir', 3])\n",
      "([27, 'travaille', 0, 63, 'serieux', 2], [39, 'chomage', 9, 43, 'serieux', 4])\n",
      "([38, 'travaille', 5, 218, 'Q', 2], [53, 'chomage', 4, 35, 'serieux', 4])\n",
      "([45, 'etudiant', 3, 22, 'Q', 2], [18, 'etudiant', 6, 7, 'serieux', 3])\n",
      "([58, 'etudiant', 5, 269, 'serieux', 4], [55, 'chomage', 9, 37, 'a voir', 4])\n",
      "([21, 'chomage', 5, 20, 'a voir', 4], [25, 'chomage', 7, 204, 'serieux', 2])\n",
      "([58, 'travaille', 5, 5, 'serieux', 4], [21, 'etudiant', 2, 146, 'a voir', 3])\n",
      "([39, 'travaille', 9, 196, 'serieux', 4], [50, 'chomage', 9, 58, 'a voir', 4])\n",
      "([48, 'etudiant', 2, 49, 'Q', 4], [52, 'chomage', 1, 11, 'serieux', 4])\n",
      "([49, 'chomage', 0, 204, 'Q', 1], [35, 'travaille', 4, 11, 'a voir', 4])\n",
      "([59, 'chomage', 17, 145, 'Q', 2], [29, 'travaille', 8, 112, 'Q', 4])\n",
      "([38, 'chomage', 5, 65, 'serieux', 3], [42, 'chomage', 5, 42, 'a voir', 1])\n",
      "([59, 'travaille', 1, 17, 'a voir', 4], [44, 'travaille', 6, 8, 'serieux', 1])\n",
      "([31, 'chomage', 7, 192, 'serieux', 3], [47, 'chomage', 6, 222, 'Q', 1])\n",
      "([29, 'chomage', 3, 25, 'serieux', 3], [35, 'etudiant', 2, 10, 'a voir', 3])\n",
      "([55, 'travaille', 3, 18, 'serieux', 2], [38, 'etudiant', 3, 138, 'a voir', 1])\n",
      "([24, 'chomage', 0, 47, 'Q', 3], [45, 'travaille', 8, 42, 'a voir', 3])\n",
      "([52, 'chomage', 9, 523, 'serieux', 4], [55, 'chomage', 6, 147, 'Q', 2])\n",
      "([58, 'chomage', 10, 37, 'a voir', 2], [48, 'etudiant', 6, 11, 'serieux', 4])\n",
      "([52, 'etudiant', 6, 156, 'serieux', 3], [29, 'travaille', 9, 22, 'serieux', 1])\n",
      "([33, 'travaille', 21, 335, 'serieux', 2], [29, 'etudiant', 4, 251, 'a voir', 2])\n",
      "([50, 'travaille', 4, 4, 'a voir', 2], [29, 'etudiant', 3, 28, 'Q', 2])\n",
      "([27, 'etudiant', 1, 302, 'serieux', 3], [59, 'etudiant', 9, 116, 'serieux', 2])\n",
      "([43, 'etudiant', 4, 173, 'serieux', 1], [47, 'etudiant', 1, 22, 'a voir', 1])\n",
      "([60, 'chomage', 5, 100, 'a voir', 4], [38, 'etudiant', 9, 75, 'serieux', 2])\n",
      "([22, 'travaille', 1, 25, 'serieux', 4], [56, 'chomage', 23, 95, 'serieux', 3])\n",
      "([46, 'travaille', 29, 62, 'Q', 4], [54, 'travaille', 9, 203, 'a voir', 2])\n",
      "([37, 'etudiant', 9, 6, 'serieux', 3], [36, 'travaille', 5, 111, 'a voir', 2])\n",
      "([39, 'etudiant', 9, 82, 'Q', 2], [20, 'etudiant', 4, 3, 'Q', 4])\n",
      "([23, 'travaille', 3, 44, 'serieux', 4], [35, 'travaille', 8, 278, 'a voir', 3])\n",
      "([48, 'chomage', 7, 30, 'serieux', 3], [31, 'chomage', 0, 78, 'serieux', 3])\n",
      "([46, 'travaille', 5, 53, 'a voir', 3], [24, 'chomage', 5, 32, 'a voir', 1])\n",
      "([57, 'chomage', 13, 180, 'serieux', 3], [51, 'etudiant', 0, 44, 'serieux', 4])\n",
      "([48, 'etudiant', 9, 6, 'Q', 4], [57, 'travaille', 4, 104, 'serieux', 2])\n",
      "([24, 'chomage', 4, 278, 'Q', 3], [23, 'etudiant', 15, 17, 'serieux', 3])\n",
      "([32, 'travaille', 6, 6, 'Q', 2], [38, 'etudiant', 4, 14, 'serieux', 4])\n"
     ]
    },
    {
     "data": {
      "image/png": "[encoded data removed]",
      "text/plain": [
       "<Figure size 432x288 with 1 Axes>"
      ]
     },
     "metadata": {
      "needs_background": "light"
     },
     "output_type": "display_data"
    }
   ],
   "source": [
    "coordonees(50, 100) #version 1 on obtient une première courbe qui tient la route\n",
    "                    #il faut affiner les fct qui détermine les individus car il y a des incohérences"
   ]
  },
  {
   "cell_type": "code",
   "execution_count": null,
   "id": "a6312483",
   "metadata": {},
   "outputs": [],
   "source": []
  },
  {
   "cell_type": "code",
   "execution_count": null,
   "id": "3bd4522e",
   "metadata": {},
   "outputs": [],
   "source": []
  },
  {
   "cell_type": "code",
   "execution_count": null,
   "id": "915bc6b6",
   "metadata": {},
   "outputs": [],
   "source": []
  },
  {
   "cell_type": "code",
   "execution_count": null,
   "id": "de9a3b7d",
   "metadata": {},
   "outputs": [],
   "source": []
  },
  {
   "cell_type": "code",
   "execution_count": null,
   "id": "b62ef607",
   "metadata": {},
   "outputs": [],
   "source": []
  }
 ],
 "metadata": {
  "kernelspec": {
   "display_name": "Python 3 (ipykernel)",
   "language": "python",
   "name": "python3"
  },
  "language_info": {
   "codemirror_mode": {
    "name": "ipython",
    "version": 3
   },
   "file_extension": ".py",
   "mimetype": "text/x-python",
   "name": "python",
   "nbconvert_exporter": "python",
   "pygments_lexer": "ipython3",
   "version": "3.10.4"
  }
 },
 "nbformat": 4,
 "nbformat_minor": 5
}
